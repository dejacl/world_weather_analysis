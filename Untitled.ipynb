{
 "cells": [
  {
   "cell_type": "code",
   "execution_count": 2,
   "id": "f9409102",
   "metadata": {},
   "outputs": [],
   "source": [
    "#import the dependenices  \n",
    "import numpy as np"
   ]
  },
  {
   "cell_type": "code",
   "execution_count": 3,
   "id": "b5712121",
   "metadata": {},
   "outputs": [
    {
     "data": {
      "text/plain": [
       "array([-44.53619303,  28.35980431, -54.34758378, ...,  71.30422175,\n",
       "       -57.2967551 ,  14.38414356])"
      ]
     },
     "execution_count": 3,
     "metadata": {},
     "output_type": "execute_result"
    }
   ],
   "source": [
    "#create random Latitudes and longitudes\n",
    "np.random.uniform (-90.000, 90.000, size =2000)"
   ]
  },
  {
   "cell_type": "code",
   "execution_count": 4,
   "id": "3f6b825a",
   "metadata": {},
   "outputs": [],
   "source": [
    "#Get the nearest cities using citipy module.\n",
    "from citipy import citipy \n",
    "\n",
    "#the nearest cites? as how would you get them \n"
   ]
  },
  {
   "cell_type": "code",
   "execution_count": null,
   "id": "b144ea00",
   "metadata": {},
   "outputs": [],
   "source": []
  },
  {
   "cell_type": "code",
   "execution_count": null,
   "id": "ebd1c69a",
   "metadata": {},
   "outputs": [],
   "source": []
  }
 ],
 "metadata": {
  "kernelspec": {
   "display_name": "Python 3 (ipykernel)",
   "language": "python",
   "name": "python3"
  },
  "language_info": {
   "codemirror_mode": {
    "name": "ipython",
    "version": 3
   },
   "file_extension": ".py",
   "mimetype": "text/x-python",
   "name": "python",
   "nbconvert_exporter": "python",
   "pygments_lexer": "ipython3",
   "version": "3.7.13"
  }
 },
 "nbformat": 4,
 "nbformat_minor": 5
}
