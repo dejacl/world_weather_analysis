{
 "cells": [
  {
   "cell_type": "code",
   "execution_count": 6,
   "id": "051713ae",
   "metadata": {},
   "outputs": [],
   "source": [
    "# Import the dependencies.\n",
    "import pandas as pd\n",
    "import gmaps\n",
    "import requests\n",
    "# Import the API key.\n",
    "from config import g_key"
   ]
  },
  {
   "cell_type": "code",
   "execution_count": 7,
   "id": "1d5ba3af",
   "metadata": {},
   "outputs": [
    {
     "data": {
      "text/html": [
       "<div>\n",
       "<style scoped>\n",
       "    .dataframe tbody tr th:only-of-type {\n",
       "        vertical-align: middle;\n",
       "    }\n",
       "\n",
       "    .dataframe tbody tr th {\n",
       "        vertical-align: top;\n",
       "    }\n",
       "\n",
       "    .dataframe thead th {\n",
       "        text-align: right;\n",
       "    }\n",
       "</style>\n",
       "<table border=\"1\" class=\"dataframe\">\n",
       "  <thead>\n",
       "    <tr style=\"text-align: right;\">\n",
       "      <th></th>\n",
       "      <th>City_ID</th>\n",
       "      <th>City</th>\n",
       "      <th>Lat</th>\n",
       "      <th>Lng</th>\n",
       "      <th>Max Temp</th>\n",
       "      <th>Humidity</th>\n",
       "      <th>Cloudiness</th>\n",
       "      <th>Wind Speed</th>\n",
       "      <th>Country</th>\n",
       "      <th>Date</th>\n",
       "    </tr>\n",
       "  </thead>\n",
       "  <tbody>\n",
       "    <tr>\n",
       "      <th>0</th>\n",
       "      <td>0</td>\n",
       "      <td>Broome</td>\n",
       "      <td>42.2506</td>\n",
       "      <td>-75.8330</td>\n",
       "      <td>74.46</td>\n",
       "      <td>50</td>\n",
       "      <td>100</td>\n",
       "      <td>3.00</td>\n",
       "      <td>US</td>\n",
       "      <td>2022-06-11 17:54:14</td>\n",
       "    </tr>\n",
       "    <tr>\n",
       "      <th>1</th>\n",
       "      <td>1</td>\n",
       "      <td>Dingle</td>\n",
       "      <td>10.9995</td>\n",
       "      <td>122.6711</td>\n",
       "      <td>76.84</td>\n",
       "      <td>90</td>\n",
       "      <td>72</td>\n",
       "      <td>2.15</td>\n",
       "      <td>PH</td>\n",
       "      <td>2022-06-11 17:54:15</td>\n",
       "    </tr>\n",
       "    <tr>\n",
       "      <th>2</th>\n",
       "      <td>2</td>\n",
       "      <td>Rikitea</td>\n",
       "      <td>-23.1203</td>\n",
       "      <td>-134.9692</td>\n",
       "      <td>74.25</td>\n",
       "      <td>80</td>\n",
       "      <td>30</td>\n",
       "      <td>13.49</td>\n",
       "      <td>PF</td>\n",
       "      <td>2022-06-11 17:52:57</td>\n",
       "    </tr>\n",
       "    <tr>\n",
       "      <th>3</th>\n",
       "      <td>3</td>\n",
       "      <td>Oskaloosa</td>\n",
       "      <td>41.2964</td>\n",
       "      <td>-92.6444</td>\n",
       "      <td>75.40</td>\n",
       "      <td>83</td>\n",
       "      <td>75</td>\n",
       "      <td>5.75</td>\n",
       "      <td>US</td>\n",
       "      <td>2022-06-11 17:54:15</td>\n",
       "    </tr>\n",
       "    <tr>\n",
       "      <th>4</th>\n",
       "      <td>4</td>\n",
       "      <td>Grindavik</td>\n",
       "      <td>63.8424</td>\n",
       "      <td>-22.4338</td>\n",
       "      <td>55.35</td>\n",
       "      <td>76</td>\n",
       "      <td>75</td>\n",
       "      <td>17.27</td>\n",
       "      <td>IS</td>\n",
       "      <td>2022-06-11 17:54:15</td>\n",
       "    </tr>\n",
       "  </tbody>\n",
       "</table>\n",
       "</div>"
      ],
      "text/plain": [
       "   City_ID       City      Lat       Lng  Max Temp  Humidity  Cloudiness  \\\n",
       "0        0     Broome  42.2506  -75.8330     74.46        50         100   \n",
       "1        1     Dingle  10.9995  122.6711     76.84        90          72   \n",
       "2        2    Rikitea -23.1203 -134.9692     74.25        80          30   \n",
       "3        3  Oskaloosa  41.2964  -92.6444     75.40        83          75   \n",
       "4        4  Grindavik  63.8424  -22.4338     55.35        76          75   \n",
       "\n",
       "   Wind Speed Country                 Date  \n",
       "0        3.00      US  2022-06-11 17:54:14  \n",
       "1        2.15      PH  2022-06-11 17:54:15  \n",
       "2       13.49      PF  2022-06-11 17:52:57  \n",
       "3        5.75      US  2022-06-11 17:54:15  \n",
       "4       17.27      IS  2022-06-11 17:54:15  "
      ]
     },
     "execution_count": 7,
     "metadata": {},
     "output_type": "execute_result"
    }
   ],
   "source": [
    "# Store the CSV you saved created in part one into a DataFrame.\n",
    "city_data_df = pd.read_csv(\"weather_data/cities.csv\")\n",
    "city_data_df.head()"
   ]
  },
  {
   "cell_type": "code",
   "execution_count": 12,
   "id": "9a1d4ffa",
   "metadata": {},
   "outputs": [
    {
     "data": {
      "text/plain": [
       "City_ID         int64\n",
       "City           object\n",
       "Lat           float64\n",
       "Lng           float64\n",
       "Max Temp      float64\n",
       "Humidity        int64\n",
       "Cloudiness      int64\n",
       "Wind Speed    float64\n",
       "Country        object\n",
       "Date           object\n",
       "dtype: object"
      ]
     },
     "execution_count": 12,
     "metadata": {},
     "output_type": "execute_result"
    }
   ],
   "source": [
    "#get the data types.\n",
    "\n",
    "city_data_df.dtypes"
   ]
  },
  {
   "cell_type": "code",
   "execution_count": 13,
   "id": "91c24516",
   "metadata": {},
   "outputs": [],
   "source": [
    "# Configure gmaps to use your Google API key.\n",
    "gmaps.configure(api_key=g_key)"
   ]
  },
  {
   "cell_type": "code",
   "execution_count": 15,
   "id": "e2663044",
   "metadata": {},
   "outputs": [
    {
     "data": {
      "application/vnd.jupyter.widget-view+json": {
       "model_id": "764e0d5ee0154e94a097bd9561b42556",
       "version_major": 2,
       "version_minor": 0
      },
      "text/plain": [
       "Figure(layout=FigureLayout(height='420px'))"
      ]
     },
     "metadata": {},
     "output_type": "display_data"
    }
   ],
   "source": [
    "# Heatmap of temperature\n",
    "# Get the latitude and longitude.\n",
    "locations = city_data_df[[\"Lat\", \"Lng\"]]\n",
    "# Get the maximum temperature.\n",
    "max_temp = city_data_df[\"Max Temp\"]\n",
    "# Assign the figure variable.\n",
    "fig = gmaps.figure()\n",
    "# Assign the heatmap variable.\n",
    "heat_layer = gmaps.heatmap_layer(locations, weights=max_temp)\n",
    "# Add the heatmap layer.\n",
    "fig.add_layer(heat_layer)\n",
    "# Call the figure to plot the data.\n",
    "fig"
   ]
  },
  {
   "cell_type": "code",
   "execution_count": 22,
   "id": "bd66f559",
   "metadata": {},
   "outputs": [],
   "source": [
    "# Get the maximum temperature.\n",
    "max_temp = city_data_df[\"Max Temp\"]\n",
    "temps = []\n",
    "for temp in max_temp:\n",
    "    temps.append(max(temp, 0))"
   ]
  },
  {
   "cell_type": "code",
   "execution_count": 21,
   "id": "8badf242",
   "metadata": {},
   "outputs": [],
   "source": [
    "#heat_layer = gmaps.heatmap_layer(locations, weights=max_temp)"
   ]
  },
  {
   "cell_type": "code",
   "execution_count": 24,
   "id": "29656aa7",
   "metadata": {},
   "outputs": [],
   "source": [
    "heat_layer = gmaps.heatmap_layer(locations, weights=[max(temp, 0) for temp in max_temp])"
   ]
  },
  {
   "cell_type": "code",
   "execution_count": 25,
   "id": "727386c4",
   "metadata": {},
   "outputs": [],
   "source": [
    "fig = gmaps.figure(center=(30.0, 31.0), zoom_level=1.5)"
   ]
  },
  {
   "cell_type": "code",
   "execution_count": 28,
   "id": "b871a875",
   "metadata": {},
   "outputs": [],
   "source": [
    "heat_layer = gmaps.heatmap_layer(locations, weights=[max(temp, 0) for temp in max_temp], dissipating=False, max_intensity=300, point_radius=4)\n",
    "fig.add_layer(heat_layer)"
   ]
  },
  {
   "cell_type": "code",
   "execution_count": 27,
   "id": "7cb8ba96",
   "metadata": {},
   "outputs": [
    {
     "data": {
      "application/vnd.jupyter.widget-view+json": {
       "model_id": "e3b31e68edbb4ceebe63da55d541efd6",
       "version_major": 2,
       "version_minor": 0
      },
      "text/plain": [
       "Figure(layout=FigureLayout(height='420px'))"
      ]
     },
     "metadata": {},
     "output_type": "display_data"
    }
   ],
   "source": [
    "# Heatmap of percent humidity\n",
    "locations = city_data_df[[\"Lat\", \"Lng\"]]\n",
    "humidity = city_data_df[\"Humidity\"]\n",
    "fig = gmaps.figure(center=(30.0, 31.0), zoom_level=1.5)\n",
    "heat_layer = gmaps.heatmap_layer(locations, weights=humidity, dissipating=False, max_intensity=300, point_radius=4)\n",
    "\n",
    "fig.add_layer(heat_layer)\n",
    "# Call the figure to plot the data.\n",
    "fig"
   ]
  },
  {
   "cell_type": "code",
   "execution_count": 29,
   "id": "ce12fcfd",
   "metadata": {},
   "outputs": [
    {
     "data": {
      "application/vnd.jupyter.widget-view+json": {
       "model_id": "622cdbf0f0ed4c8fb9891ef5d549f404",
       "version_major": 2,
       "version_minor": 0
      },
      "text/plain": [
       "Figure(layout=FigureLayout(height='420px'))"
      ]
     },
     "metadata": {},
     "output_type": "display_data"
    }
   ],
   "source": [
    "# Heatmap of percent humidity\n",
    "locations = city_data_df[[\"Lat\", \"Lng\"]]\n",
    "clouds = city_data_df[\"Cloudiness\"]\n",
    "fig = gmaps.figure(center=(30.0, 31.0), zoom_level=1.5)\n",
    "heat_layer = gmaps.heatmap_layer(locations, weights=clouds, dissipating=False, max_intensity=300, point_radius=4)\n",
    "\n",
    "fig.add_layer(heat_layer)\n",
    "# Call the figure to plot the data.\n",
    "fig"
   ]
  },
  {
   "cell_type": "code",
   "execution_count": 30,
   "id": "f44f61bd",
   "metadata": {},
   "outputs": [
    {
     "data": {
      "application/vnd.jupyter.widget-view+json": {
       "model_id": "7ddb173968c049e892bf558cfab95386",
       "version_major": 2,
       "version_minor": 0
      },
      "text/plain": [
       "Figure(layout=FigureLayout(height='420px'))"
      ]
     },
     "metadata": {},
     "output_type": "display_data"
    }
   ],
   "source": [
    "# Heatmap of percent humidity\n",
    "locations = city_data_df[[\"Lat\", \"Lng\"]]\n",
    "wind = city_data_df[\"Wind Speed\"]\n",
    "fig = gmaps.figure(center=(30.0, 31.0), zoom_level=1.5)\n",
    "heat_layer = gmaps.heatmap_layer(locations, weights=wind, dissipating=False, max_intensity=300, point_radius=4)\n",
    "\n",
    "fig.add_layer(heat_layer)\n",
    "# Call the figure to plot the data.\n",
    "fig"
   ]
  },
  {
   "cell_type": "code",
   "execution_count": 31,
   "id": "b1a59946",
   "metadata": {},
   "outputs": [
    {
     "name": "stdout",
     "output_type": "stream",
     "text": [
      "What is the minimum temperature you would like for your trip? 75\n",
      "What is the maximum temperature you would like for your trip? 90\n"
     ]
    }
   ],
   "source": [
    "# Ask the customer to add a minimum and maximum temperature value.\n",
    "min_temp = float(input(\"What is the minimum temperature you would like for your trip? \"))\n",
    "max_temp = float(input(\"What is the maximum temperature you would like for your trip? \"))"
   ]
  },
  {
   "cell_type": "code",
   "execution_count": 32,
   "id": "ca8ac2dc",
   "metadata": {},
   "outputs": [
    {
     "data": {
      "text/html": [
       "<div>\n",
       "<style scoped>\n",
       "    .dataframe tbody tr th:only-of-type {\n",
       "        vertical-align: middle;\n",
       "    }\n",
       "\n",
       "    .dataframe tbody tr th {\n",
       "        vertical-align: top;\n",
       "    }\n",
       "\n",
       "    .dataframe thead th {\n",
       "        text-align: right;\n",
       "    }\n",
       "</style>\n",
       "<table border=\"1\" class=\"dataframe\">\n",
       "  <thead>\n",
       "    <tr style=\"text-align: right;\">\n",
       "      <th></th>\n",
       "      <th>City_ID</th>\n",
       "      <th>City</th>\n",
       "      <th>Lat</th>\n",
       "      <th>Lng</th>\n",
       "      <th>Max Temp</th>\n",
       "      <th>Humidity</th>\n",
       "      <th>Cloudiness</th>\n",
       "      <th>Wind Speed</th>\n",
       "      <th>Country</th>\n",
       "      <th>Date</th>\n",
       "    </tr>\n",
       "  </thead>\n",
       "  <tbody>\n",
       "    <tr>\n",
       "      <th>1</th>\n",
       "      <td>1</td>\n",
       "      <td>Dingle</td>\n",
       "      <td>10.9995</td>\n",
       "      <td>122.6711</td>\n",
       "      <td>76.84</td>\n",
       "      <td>90</td>\n",
       "      <td>72</td>\n",
       "      <td>2.15</td>\n",
       "      <td>PH</td>\n",
       "      <td>2022-06-11 17:54:15</td>\n",
       "    </tr>\n",
       "    <tr>\n",
       "      <th>3</th>\n",
       "      <td>3</td>\n",
       "      <td>Oskaloosa</td>\n",
       "      <td>41.2964</td>\n",
       "      <td>-92.6444</td>\n",
       "      <td>75.40</td>\n",
       "      <td>83</td>\n",
       "      <td>75</td>\n",
       "      <td>5.75</td>\n",
       "      <td>US</td>\n",
       "      <td>2022-06-11 17:54:15</td>\n",
       "    </tr>\n",
       "    <tr>\n",
       "      <th>5</th>\n",
       "      <td>5</td>\n",
       "      <td>Buchanan</td>\n",
       "      <td>5.8808</td>\n",
       "      <td>-10.0467</td>\n",
       "      <td>79.66</td>\n",
       "      <td>79</td>\n",
       "      <td>98</td>\n",
       "      <td>8.52</td>\n",
       "      <td>LR</td>\n",
       "      <td>2022-06-11 17:54:16</td>\n",
       "    </tr>\n",
       "    <tr>\n",
       "      <th>7</th>\n",
       "      <td>7</td>\n",
       "      <td>Cam Ranh</td>\n",
       "      <td>11.9214</td>\n",
       "      <td>109.1591</td>\n",
       "      <td>82.36</td>\n",
       "      <td>74</td>\n",
       "      <td>20</td>\n",
       "      <td>2.30</td>\n",
       "      <td>VN</td>\n",
       "      <td>2022-06-11 17:51:39</td>\n",
       "    </tr>\n",
       "    <tr>\n",
       "      <th>12</th>\n",
       "      <td>12</td>\n",
       "      <td>Kalaleh</td>\n",
       "      <td>37.3807</td>\n",
       "      <td>55.4916</td>\n",
       "      <td>78.40</td>\n",
       "      <td>53</td>\n",
       "      <td>40</td>\n",
       "      <td>13.80</td>\n",
       "      <td>IR</td>\n",
       "      <td>2022-06-11 17:54:18</td>\n",
       "    </tr>\n",
       "    <tr>\n",
       "      <th>13</th>\n",
       "      <td>13</td>\n",
       "      <td>Puerto Ayora</td>\n",
       "      <td>-0.7393</td>\n",
       "      <td>-90.3518</td>\n",
       "      <td>78.76</td>\n",
       "      <td>88</td>\n",
       "      <td>76</td>\n",
       "      <td>7.00</td>\n",
       "      <td>EC</td>\n",
       "      <td>2022-06-11 17:54:19</td>\n",
       "    </tr>\n",
       "    <tr>\n",
       "      <th>14</th>\n",
       "      <td>14</td>\n",
       "      <td>Samarai</td>\n",
       "      <td>-10.6167</td>\n",
       "      <td>150.6667</td>\n",
       "      <td>79.93</td>\n",
       "      <td>80</td>\n",
       "      <td>77</td>\n",
       "      <td>6.20</td>\n",
       "      <td>PG</td>\n",
       "      <td>2022-06-11 17:54:20</td>\n",
       "    </tr>\n",
       "    <tr>\n",
       "      <th>15</th>\n",
       "      <td>15</td>\n",
       "      <td>Jatibonico</td>\n",
       "      <td>21.9419</td>\n",
       "      <td>-79.1700</td>\n",
       "      <td>88.36</td>\n",
       "      <td>56</td>\n",
       "      <td>63</td>\n",
       "      <td>5.26</td>\n",
       "      <td>CU</td>\n",
       "      <td>2022-06-11 17:54:20</td>\n",
       "    </tr>\n",
       "    <tr>\n",
       "      <th>21</th>\n",
       "      <td>21</td>\n",
       "      <td>Portel</td>\n",
       "      <td>-1.9356</td>\n",
       "      <td>-50.8211</td>\n",
       "      <td>81.63</td>\n",
       "      <td>76</td>\n",
       "      <td>98</td>\n",
       "      <td>2.95</td>\n",
       "      <td>BR</td>\n",
       "      <td>2022-06-11 17:54:24</td>\n",
       "    </tr>\n",
       "    <tr>\n",
       "      <th>23</th>\n",
       "      <td>23</td>\n",
       "      <td>Santiago</td>\n",
       "      <td>-33.4569</td>\n",
       "      <td>-70.6483</td>\n",
       "      <td>79.29</td>\n",
       "      <td>29</td>\n",
       "      <td>0</td>\n",
       "      <td>3.44</td>\n",
       "      <td>CL</td>\n",
       "      <td>2022-06-11 17:54:24</td>\n",
       "    </tr>\n",
       "  </tbody>\n",
       "</table>\n",
       "</div>"
      ],
      "text/plain": [
       "    City_ID          City      Lat       Lng  Max Temp  Humidity  Cloudiness  \\\n",
       "1         1        Dingle  10.9995  122.6711     76.84        90          72   \n",
       "3         3     Oskaloosa  41.2964  -92.6444     75.40        83          75   \n",
       "5         5      Buchanan   5.8808  -10.0467     79.66        79          98   \n",
       "7         7      Cam Ranh  11.9214  109.1591     82.36        74          20   \n",
       "12       12       Kalaleh  37.3807   55.4916     78.40        53          40   \n",
       "13       13  Puerto Ayora  -0.7393  -90.3518     78.76        88          76   \n",
       "14       14       Samarai -10.6167  150.6667     79.93        80          77   \n",
       "15       15    Jatibonico  21.9419  -79.1700     88.36        56          63   \n",
       "21       21        Portel  -1.9356  -50.8211     81.63        76          98   \n",
       "23       23      Santiago -33.4569  -70.6483     79.29        29           0   \n",
       "\n",
       "    Wind Speed Country                 Date  \n",
       "1         2.15      PH  2022-06-11 17:54:15  \n",
       "3         5.75      US  2022-06-11 17:54:15  \n",
       "5         8.52      LR  2022-06-11 17:54:16  \n",
       "7         2.30      VN  2022-06-11 17:51:39  \n",
       "12       13.80      IR  2022-06-11 17:54:18  \n",
       "13        7.00      EC  2022-06-11 17:54:19  \n",
       "14        6.20      PG  2022-06-11 17:54:20  \n",
       "15        5.26      CU  2022-06-11 17:54:20  \n",
       "21        2.95      BR  2022-06-11 17:54:24  \n",
       "23        3.44      CL  2022-06-11 17:54:24  "
      ]
     },
     "execution_count": 32,
     "metadata": {},
     "output_type": "execute_result"
    }
   ],
   "source": [
    "# Filter the dataset to find the cities that fit the criteria. conditional statement\n",
    "preferred_cities_df = city_data_df.loc[(city_data_df[\"Max Temp\"] <= max_temp) & \\\n",
    "                                       (city_data_df[\"Max Temp\"] >= min_temp)]\n",
    "preferred_cities_df.head(10)\n"
   ]
  },
  {
   "cell_type": "code",
   "execution_count": 33,
   "id": "5ced1149",
   "metadata": {},
   "outputs": [
    {
     "data": {
      "text/plain": [
       "City_ID       241\n",
       "City          241\n",
       "Lat           241\n",
       "Lng           241\n",
       "Max Temp      241\n",
       "Humidity      241\n",
       "Cloudiness    241\n",
       "Wind Speed    241\n",
       "Country       241\n",
       "Date          241\n",
       "dtype: int64"
      ]
     },
     "execution_count": 33,
     "metadata": {},
     "output_type": "execute_result"
    }
   ],
   "source": [
    "#determine if any vales are null\n",
    "preferred_cities_df.count()"
   ]
  },
  {
   "cell_type": "code",
   "execution_count": 45,
   "id": "ba20dc18",
   "metadata": {},
   "outputs": [
    {
     "data": {
      "text/html": [
       "<div>\n",
       "<style scoped>\n",
       "    .dataframe tbody tr th:only-of-type {\n",
       "        vertical-align: middle;\n",
       "    }\n",
       "\n",
       "    .dataframe tbody tr th {\n",
       "        vertical-align: top;\n",
       "    }\n",
       "\n",
       "    .dataframe thead th {\n",
       "        text-align: right;\n",
       "    }\n",
       "</style>\n",
       "<table border=\"1\" class=\"dataframe\">\n",
       "  <thead>\n",
       "    <tr style=\"text-align: right;\">\n",
       "      <th></th>\n",
       "      <th>City</th>\n",
       "      <th>Country</th>\n",
       "      <th>Max Temp</th>\n",
       "      <th>Lat</th>\n",
       "      <th>Lng</th>\n",
       "      <th>Hotel Name</th>\n",
       "    </tr>\n",
       "  </thead>\n",
       "  <tbody>\n",
       "    <tr>\n",
       "      <th>1</th>\n",
       "      <td>Dingle</td>\n",
       "      <td>PH</td>\n",
       "      <td>76.84</td>\n",
       "      <td>10.9995</td>\n",
       "      <td>122.6711</td>\n",
       "      <td></td>\n",
       "    </tr>\n",
       "    <tr>\n",
       "      <th>3</th>\n",
       "      <td>Oskaloosa</td>\n",
       "      <td>US</td>\n",
       "      <td>75.40</td>\n",
       "      <td>41.2964</td>\n",
       "      <td>-92.6444</td>\n",
       "      <td></td>\n",
       "    </tr>\n",
       "    <tr>\n",
       "      <th>5</th>\n",
       "      <td>Buchanan</td>\n",
       "      <td>LR</td>\n",
       "      <td>79.66</td>\n",
       "      <td>5.8808</td>\n",
       "      <td>-10.0467</td>\n",
       "      <td></td>\n",
       "    </tr>\n",
       "    <tr>\n",
       "      <th>7</th>\n",
       "      <td>Cam Ranh</td>\n",
       "      <td>VN</td>\n",
       "      <td>82.36</td>\n",
       "      <td>11.9214</td>\n",
       "      <td>109.1591</td>\n",
       "      <td></td>\n",
       "    </tr>\n",
       "    <tr>\n",
       "      <th>12</th>\n",
       "      <td>Kalaleh</td>\n",
       "      <td>IR</td>\n",
       "      <td>78.40</td>\n",
       "      <td>37.3807</td>\n",
       "      <td>55.4916</td>\n",
       "      <td></td>\n",
       "    </tr>\n",
       "    <tr>\n",
       "      <th>13</th>\n",
       "      <td>Puerto Ayora</td>\n",
       "      <td>EC</td>\n",
       "      <td>78.76</td>\n",
       "      <td>-0.7393</td>\n",
       "      <td>-90.3518</td>\n",
       "      <td></td>\n",
       "    </tr>\n",
       "    <tr>\n",
       "      <th>14</th>\n",
       "      <td>Samarai</td>\n",
       "      <td>PG</td>\n",
       "      <td>79.93</td>\n",
       "      <td>-10.6167</td>\n",
       "      <td>150.6667</td>\n",
       "      <td></td>\n",
       "    </tr>\n",
       "    <tr>\n",
       "      <th>15</th>\n",
       "      <td>Jatibonico</td>\n",
       "      <td>CU</td>\n",
       "      <td>88.36</td>\n",
       "      <td>21.9419</td>\n",
       "      <td>-79.1700</td>\n",
       "      <td></td>\n",
       "    </tr>\n",
       "    <tr>\n",
       "      <th>21</th>\n",
       "      <td>Portel</td>\n",
       "      <td>BR</td>\n",
       "      <td>81.63</td>\n",
       "      <td>-1.9356</td>\n",
       "      <td>-50.8211</td>\n",
       "      <td></td>\n",
       "    </tr>\n",
       "    <tr>\n",
       "      <th>23</th>\n",
       "      <td>Santiago</td>\n",
       "      <td>CL</td>\n",
       "      <td>79.29</td>\n",
       "      <td>-33.4569</td>\n",
       "      <td>-70.6483</td>\n",
       "      <td></td>\n",
       "    </tr>\n",
       "  </tbody>\n",
       "</table>\n",
       "</div>"
      ],
      "text/plain": [
       "            City Country  Max Temp      Lat       Lng Hotel Name\n",
       "1         Dingle      PH     76.84  10.9995  122.6711           \n",
       "3      Oskaloosa      US     75.40  41.2964  -92.6444           \n",
       "5       Buchanan      LR     79.66   5.8808  -10.0467           \n",
       "7       Cam Ranh      VN     82.36  11.9214  109.1591           \n",
       "12       Kalaleh      IR     78.40  37.3807   55.4916           \n",
       "13  Puerto Ayora      EC     78.76  -0.7393  -90.3518           \n",
       "14       Samarai      PG     79.93 -10.6167  150.6667           \n",
       "15    Jatibonico      CU     88.36  21.9419  -79.1700           \n",
       "21        Portel      BR     81.63  -1.9356  -50.8211           \n",
       "23      Santiago      CL     79.29 -33.4569  -70.6483           "
      ]
     },
     "execution_count": 45,
     "metadata": {},
     "output_type": "execute_result"
    }
   ],
   "source": [
    "# Create DataFrame called hotel_df to store hotel names along with city, country, max temp, and coordinates.\n",
    "hotel_df = preferred_cities_df[[\"City\", \"Country\", \"Max Temp\", \"Lat\", \"Lng\"]].copy()\n",
    "hotel_df[\"Hotel Name\"] = \"\"\n",
    "hotel_df.head(10)"
   ]
  },
  {
   "cell_type": "code",
   "execution_count": 51,
   "id": "2fc0a1d3",
   "metadata": {},
   "outputs": [
    {
     "ename": "IndentationError",
     "evalue": "expected an indented block (819769870.py, line 23)",
     "output_type": "error",
     "traceback": [
      "\u001b[1;36m  File \u001b[1;32m\"C:\\Users\\dejay\\AppData\\Local\\Temp\\ipykernel_13680\\819769870.py\"\u001b[1;36m, line \u001b[1;32m23\u001b[0m\n\u001b[1;33m    hotel_df.loc[index, \"Hotel Name\"] = hotels[\"results\"][0][\"name\"]\u001b[0m\n\u001b[1;37m           ^\u001b[0m\n\u001b[1;31mIndentationError\u001b[0m\u001b[1;31m:\u001b[0m expected an indented block\n"
     ]
    }
   ],
   "source": [
    "# Set parameters to search for a hotel.\n",
    "params = {\n",
    "    \"radius\": 5000,\n",
    "    \"type\": \"lodging\",\n",
    "    \"key\": g_key\n",
    "}\n",
    "# Iterate through the DataFrame.\n",
    "for index, row in hotel_df.iterrows():\n",
    "    # Get the latitude and longitude.\n",
    "    lat = row[\"Lat\"]\n",
    "    lng = row[\"Lng\"]\n",
    "\n",
    "    # Add the latitude and longitude to location key for the params dictionary.\n",
    "    params[\"location\"] = f\"{lat},{lng}\"\n",
    "\n",
    "    # Use the search term: \"lodging\" and our latitude and longitude.\n",
    "    base_url = \"https://maps.googleapis.com/maps/api/place/nearbysearch/json\"\n",
    "    # Make request and get the JSON data from the search.\n",
    "    hotels = requests.get(base_url, params=params).json()\n",
    " \n",
    "    # Grab the first hotel from the results and store the name.\n",
    "    try:\n",
    "    hotel_df.loc[index, \"Hotel Name\"] = hotels[\"results\"][0][\"name\"]\n",
    "      except (IndexError):\n",
    "    print(\"Hotel not found... skipping.\")"
   ]
  },
  {
   "cell_type": "code",
   "execution_count": null,
   "id": "44f5ef73",
   "metadata": {},
   "outputs": [],
   "source": []
  }
 ],
 "metadata": {
  "kernelspec": {
   "display_name": "Python 3 (ipykernel)",
   "language": "python",
   "name": "python3"
  },
  "language_info": {
   "codemirror_mode": {
    "name": "ipython",
    "version": 3
   },
   "file_extension": ".py",
   "mimetype": "text/x-python",
   "name": "python",
   "nbconvert_exporter": "python",
   "pygments_lexer": "ipython3",
   "version": "3.7.13"
  }
 },
 "nbformat": 4,
 "nbformat_minor": 5
}
